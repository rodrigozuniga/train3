{
  "nbformat": 4,
  "nbformat_minor": 0,
  "metadata": {
    "colab": {
      "name": "Untitled5.ipynb",
      "provenance": [],
      "authorship_tag": "ABX9TyMEphdNgFOaMqoICdNmZ+Fk",
      "include_colab_link": true
    },
    "kernelspec": {
      "name": "python3",
      "display_name": "Python 3"
    }
  },
  "cells": [
    {
      "cell_type": "markdown",
      "metadata": {
        "id": "view-in-github",
        "colab_type": "text"
      },
      "source": [
        "<a href=\"https://colab.research.google.com/github/rodrigozuniga/train3/blob/master/Untitled5.ipynb\" target=\"_parent\"><img src=\"https://colab.research.google.com/assets/colab-badge.svg\" alt=\"Open In Colab\"/></a>"
      ]
    },
    {
      "cell_type": "code",
      "metadata": {
        "id": "du1ziYgJwSdO",
        "colab_type": "code",
        "colab": {}
      },
      "source": [
        "import numpy as np\n",
        "import pandas as pd\n",
        "import matplotlib.pyplot as plt\n"
      ],
      "execution_count": 52,
      "outputs": []
    },
    {
      "cell_type": "markdown",
      "metadata": {
        "id": "6c9YiXI1wYtd",
        "colab_type": "text"
      },
      "source": [
        "# New Section"
      ]
    },
    {
      "cell_type": "code",
      "metadata": {
        "id": "xrBPMgYQwXSN",
        "colab_type": "code",
        "colab": {
          "base_uri": "https://localhost:8080/",
          "height": 562
        },
        "outputId": "50d89ad4-1e00-43c6-a60d-1630bbe9b402"
      },
      "source": [
        "##np.random.binomial(100,0.5,10)\n",
        "# rlog=np.random.logistic(0,1,100000)\n",
        "# df1=pd.DataFrame({'Var1':rlog})\n",
        "# df1.plot.hist(bins=30)\n",
        "\n",
        "# df2=pd.DataFrame(np.random.logistic(5,1,100000))\n",
        "# df2.columns=['Var2']\n",
        "# df2.head()\n",
        "# h1=df2.plot.hist(bins=30,  color=\"red\")\n",
        "# h1.grid()\n",
        "\n",
        "# df3=pd.DataFrame({'Var1':np.random.logistic(0,1,100000),'Var2':np.random.logistic(5,1,100000)})\n",
        "# df3.head()\n",
        "# plt3=df3[['Var1','Var2']].plot.hist(bins=50,color=['red','green'],alpha=0.6,title=\"Logistic Distribution\")\n",
        "# plt3.axvline(5,color=\"lightgreen\")\n",
        "# plt3.axvline(0,color=\"orange\")\n",
        "\n",
        "# df3.hist()\n",
        "\n",
        "df4=pd.DataFrame({'Var1':np.random.logistic(0,1,50000)\n",
        "  ,'Var2':np.random.logistic(5,1,50000)\n",
        "  ,'Var3':np.random.normal(10,1,50000)\n",
        "  ,'Var4':np.random.normal(0,1,50000)})\n",
        "\n",
        "print('Histograms for df4 variables')\n",
        "# df4.hist()\n",
        "\n",
        "# avg1=df4.mean()\n",
        "# avg1.plot.bar()\n",
        "\n",
        "df4.mean().plot.bar(title='df4 variable means')\n",
        "\n",
        "# vars=['Var1','Var2','Var1']\n",
        "# for x in vars:\n",
        "#   print(x)\n",
        "#   df3[x].plot.hist(title=x)\n",
        "  \n",
        "df4.plot.scatter('Var1','Var2',alpha=0.1,color=\"red\",title=\"ScatterPlot: \\n Var1&Var2\")\n",
        "df4.plot.density()\n",
        "\n",
        "ptiles=[x for x in range(0,101,1)]\n",
        "print(ptiles)\n",
        "cdf1=np.percentile(df4.Var4,ptiles)\n",
        "\n",
        "plt.figure(num=1)\n",
        "plt.scatter(ptiles,cdf1)\n",
        "plt.grid()\n",
        "plt.title('CDF for Normally Distributed Variable')\n",
        "plt.figure(num=2)\n",
        "plt.scatter(ptiles,cdf1,color=\"orange\")\n",
        "plt.title('Same as above')\n",
        "plt.close()\n",
        "\n"
      ],
      "execution_count": 68,
      "outputs": [
        {
          "output_type": "execute_result",
          "data": {
            "text/plain": [
              "Text(0.5, 1.0, 'Same as above')"
            ]
          },
          "metadata": {
            "tags": []
          },
          "execution_count": 68
        },
        {
          "output_type": "display_data",
          "data": {
            "image/png": "[encoded data removed]",
            "text/plain": [
              "<Figure size 432x288 with 1 Axes>"
            ]
          },
          "metadata": {
            "tags": [],
            "needs_background": "light"
          }
        },
        {
          "output_type": "display_data",
          "data": {
            "image/png": "[encoded data removed]",
            "text/plain": [
              "<Figure size 432x288 with 1 Axes>"
            ]
          },
          "metadata": {
            "tags": [],
            "needs_background": "light"
          }
        }
      ]
    },
    {
      "cell_type": "markdown",
      "metadata": {
        "id": "Q46tCwWmzLp3",
        "colab_type": "text"
      },
      "source": [
        "# New Section"
      ]
    }
  ]
}